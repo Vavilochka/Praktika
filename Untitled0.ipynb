{
 "cells": [
  {
   "cell_type": "code",
   "execution_count": null,
   "metadata": {},
   "outputs": [],
   "source": [
    "!pip install ultralytics\n",
    "\n",
    "import torch\n",
    "from torchvision import datasets, transforms\n",
    "from ultralytics import YOLO\n",
    "import os\n",
    "from sklearn.model_selection import train_test_split\n",
    "import shutil\n",
    "\n",
    "data_dir = 'food101'\n",
    "dataset = datasets.Food101(root=data_dir, download=True)\n",
    "\n",
    "with open(os.path.join(data_dir, 'food-101/meta', 'classes.txt'), 'r') as f:\n",
    "    classes = f.read().splitlines()\n",
    "\n",
    "with open(os.path.join(data_dir, 'food-101/meta', 'train.txt'), 'r') as f:\n",
    "    train_paths = f.read().splitlines()\n",
    "\n",
    "with open(os.path.join(data_dir, 'food-101/meta', 'test.txt'), 'r') as f:\n",
    "    test_paths = f.read().splitlines()\n",
    "\n",
    "def prepare_yolo_data(paths, split_dir):\n",
    "    for path in paths:\n",
    "        class_name = path.split('/')[0]\n",
    "        img_path = os.path.join(data_dir, 'food-101/images', f'{path}.jpg')\n",
    "        label_path = os.path.join(split_dir, 'labels', f'{path}.txt')\n",
    "        img_out_dir = os.path.join(split_dir, 'images', class_name)\n",
    "        label_out_dir = os.path.join(split_dir, 'labels', class_name)\n",
    "\n",
    "        os.makedirs(img_out_dir, exist_ok=True)\n",
    "        os.makedirs(label_out_dir, exist_ok=True)\n",
    "\n",
    "        shutil.copy(img_path, img_out_dir)\n",
    "\n",
    "        # Создание текстового файла с аннотацией в формате YOLO\n",
    "        with open(label_path, 'w') as f:\n",
    "            class_idx = classes.index(class_name)\n",
    "            # YOLO требует центра и размеры bounding box в нормализованном виде\n",
    "            # В Food101 нет информации о bounding box, поэтому используем фиксированную разметку\n",
    "            f.write(f\"{class_idx} 0.5 0.5 1.0 1.0\\n\")\n",
    "\n",
    "yolo_data_dir = 'datasets/yolo-data'\n",
    "prepare_yolo_data(train_paths, os.path.join(yolo_data_dir, 'train'))\n",
    "prepare_yolo_data(test_paths, os.path.join(yolo_data_dir, 'val'))"
   ]
  },
  {
   "cell_type": "code",
   "execution_count": null,
   "metadata": {},
   "outputs": [],
   "source": [
    "# Тренировка модели YOLOv8\n",
    "# model = YOLO('yolov8n.pt')  # Используем предобученную модель YOLOv8\n",
    "model = YOLO('/content/best.pt')"
   ]
  },
  {
   "cell_type": "code",
   "execution_count": null,
   "metadata": {},
   "outputs": [],
   "source": [
    "# Применение обученной модели для детекции на изображении\n",
    "image_path = '/content/imgs'\n",
    "results = model.predict(image_path,save=True)"
   ]
  }
 ],
 "metadata": {
  "language_info": {
   "name": "python"
  }
 },
 "nbformat": 4,
 "nbformat_minor": 2
}
